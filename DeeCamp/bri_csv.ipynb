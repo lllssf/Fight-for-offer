{
 "cells": [
  {
   "cell_type": "code",
   "execution_count": 1,
   "metadata": {},
   "outputs": [],
   "source": [
    "import xlrd\n",
    "import pandas as pd\n",
    "import re"
   ]
  },
  {
   "cell_type": "code",
   "execution_count": 3,
   "metadata": {},
   "outputs": [],
   "source": [
    "# 处理company\n",
    "workbook_1 = xlrd.open_workbook('./financial.xlsx')"
   ]
  },
  {
   "cell_type": "code",
   "execution_count": 4,
   "metadata": {},
   "outputs": [],
   "source": [
    "# 读取sheet内容\n",
    "worksheet_1 = workbook_1.sheet_by_index(0)"
   ]
  },
  {
   "cell_type": "code",
   "execution_count": 5,
   "metadata": {},
   "outputs": [
    {
     "name": "stdout",
     "output_type": "stream",
     "text": [
      "0 Financing Source\n"
     ]
    }
   ],
   "source": [
    "for i,v in enumerate(worksheet_1.row_values(0)):\n",
    "    print(i, v)"
   ]
  },
  {
   "cell_type": "code",
   "execution_count": 6,
   "metadata": {},
   "outputs": [],
   "source": [
    "Fs = {'financial source':[]}"
   ]
  },
  {
   "cell_type": "code",
   "execution_count": 7,
   "metadata": {},
   "outputs": [],
   "source": [
    "index_company = 1\n",
    "for i in range(1, worksheet_1.nrows):\n",
    "    info = worksheet_1.row_values(i)\n",
    "    Fs['financial source'].append(info)"
   ]
  },
  {
   "cell_type": "code",
   "execution_count": 8,
   "metadata": {},
   "outputs": [],
   "source": [
    "df_company = pd.DataFrame(companies)"
   ]
  },
  {
   "cell_type": "code",
   "execution_count": 10,
   "metadata": {},
   "outputs": [],
   "source": [
    "df_fs.to_csv('./FS.csv', index=False)"
   ]
  },
  {
   "cell_type": "code",
   "execution_count": 9,
   "metadata": {},
   "outputs": [],
   "source": [
    "# 处理project\n",
    "workbook_2 = xlrd.open_workbook('./BRI_Projects_profiles.xlsx')"
   ]
  },
  {
   "cell_type": "code",
   "execution_count": 10,
   "metadata": {},
   "outputs": [],
   "source": [
    "worksheet_2 = workbook_2.sheet_by_index(0)"
   ]
  },
  {
   "cell_type": "code",
   "execution_count": 11,
   "metadata": {},
   "outputs": [
    {
     "name": "stdout",
     "output_type": "stream",
     "text": [
      "0 Project Id\n",
      "1 Project Name\n",
      "2 Updated Date\n",
      "3 Project Status\n",
      "4 Project Phase\n",
      "5 Start Date\n",
      "6 Completion Date\n",
      "7 Location\n",
      "8 Background\n",
      "9 Scope of Work\n",
      "10 AKA\n",
      "11 Country\n",
      "12 BRI Flag\n",
      "13 Corridors\n",
      "14 Primary Sector Level 1\n",
      "15 Primary Sector Level 2\n",
      "16 Primary Sector Level 3\n",
      "17 Primary Sector Level 4\n",
      "18 Secondary Sector Level 1\n",
      "19 Secondary Sector Level 2\n",
      "20 Secondary Sector Level 3\n",
      "21 Secondary Sector Level 4\n",
      "22 Facility Type\n",
      "23 Ownership Type\n",
      "24 Project Type\n",
      "25 Project Value\n",
      "26 Financing Source\n",
      "27 Hotel Class\n",
      "28 Setback Reasons\n",
      "29 Owners\n",
      "30 Developers\n",
      "31 Consultants\n",
      "32 Contractors\n",
      "33 Shareholders\n",
      "34 Associated Projects Tree\n"
     ]
    }
   ],
   "source": [
    "for i,v in enumerate(worksheet_2.row_values(0)):\n",
    "    print(i, v)"
   ]
  },
  {
   "cell_type": "code",
   "execution_count": 12,
   "metadata": {},
   "outputs": [],
   "source": [
    "projects = {'index:ID':[],\n",
    "           'Project_Id':[],\n",
    "           'Project_Name':[],\n",
    "           'Project_Status':[],\n",
    "           'Project_Phase':[],\n",
    "           'Location':[],\n",
    "           'Country':[],\n",
    "           'BRI_Flag':[],\n",
    "           'Corridors':[],\n",
    "           'Primary_Sector_Level_1':[],\n",
    "           'Primary_Sector_Level_2':[],\n",
    "           'Primary_Sector_Level_3':[],\n",
    "           'Primary_Sector_Level_4':[],\n",
    "           'Facility_Type':[],\n",
    "           'Ownership_Type':[],\n",
    "           'Project_Type':[],\n",
    "           'Project_Value':[],\n",
    "           ':LABEL':[]}\n",
    "pro2ind = {}\n",
    "ind2pro = {}\n",
    "\n",
    "owners = {':START_ID':[],\n",
    "         ':END_ID':[],\n",
    "         'relation':[],\n",
    "         ':TYPE':[]}\n",
    "developers = {':START_ID':[],\n",
    "             ':END_ID':[],\n",
    "             'relation':[],\n",
    "             ':TYPE':[]}\n",
    "consultants = {':START_ID':[],\n",
    "              ':END_ID':[],\n",
    "              'relation':[],\n",
    "              ':TYPE':[]}\n",
    "contractors = {':START_ID':[],\n",
    "              ':END_ID':[],\n",
    "              'relation':[],\n",
    "              ':TYPE':[]}\n",
    "shareholders = {':START_ID':[],\n",
    "               ':END_ID':[],\n",
    "               'relation':[],\n",
    "               ':TYPE':[]}"
   ]
  },
  {
   "cell_type": "code",
   "execution_count": 13,
   "metadata": {},
   "outputs": [],
   "source": [
    "index_project = 10000\n",
    "for i in range(1, worksheet_2.nrows):\n",
    "    info = worksheet_2.row_values(i)\n",
    "    pro2ind[info[1]] = index_project\n",
    "    ind2pro[index_project] = info[1]\n",
    "    projects['index:ID'].append(index_project)\n",
    "    projects['Project_Id'].append(info[0])\n",
    "    projects['Project_Name'].append(info[1])\n",
    "    projects['Project_Status'].append(info[3])\n",
    "    projects['Project_Phase'].append(info[4])\n",
    "    projects['Location'].append(info[7].replace('None', ''))\n",
    "    projects['Country'].append(info[11])\n",
    "    if info[12]:\n",
    "        projects['BRI_Flag'].append(True)\n",
    "    else:\n",
    "        projects['BRI_Flag'].append(False)\n",
    "    projects['Corridors'].append(info[13])\n",
    "    projects['Primary_Sector_Level_1'].append(info[14])\n",
    "    projects['Primary_Sector_Level_2'].append(info[15])\n",
    "    projects['Primary_Sector_Level_3'].append(info[16])\n",
    "    projects['Primary_Sector_Level_4'].append(info[17])\n",
    "    projects['Facility_Type'].append(info[22])\n",
    "    projects['Ownership_Type'].append(info[23])\n",
    "    projects['Project_Type'].append(info[24])\n",
    "    projects['Project_Value'].append(info[25])\n",
    "    \n",
    "    company_pattern = r'Company:\\n([\\s\\S]*?)\\n'\n",
    "    owners_content = info[29]\n",
    "    owners_list = re.findall(company_pattern, owners_content)\n",
    "    for owner in owners_list:\n",
    "        if owner in com2ind:\n",
    "            owners[':START_ID'].append(index_project)\n",
    "            owners[':END_ID'].append(com2ind[owner])\n",
    "            owners['relation'].append('owner')\n",
    "            owners[':TYPE'].append('owner')\n",
    "    developers_content = info[30]\n",
    "    developers_list = re.findall(company_pattern, developers_content)\n",
    "    for developer in developers_list:\n",
    "        if developer in com2ind:\n",
    "            developers[':START_ID'].append(index_project)\n",
    "            developers[':END_ID'].append(com2ind[developer])\n",
    "            developers['relation'].append('developer')\n",
    "            developers[':TYPE'].append('developer')\n",
    "    consultants_content = info[31]\n",
    "    consultants_list = re.findall(company_pattern, consultants_content)\n",
    "    for consultant in consultants_list:\n",
    "        if consultant in com2ind:\n",
    "            consultants[':START_ID'].append(index_project)\n",
    "            consultants[':END_ID'].append(com2ind[consultant])\n",
    "            consultants['relation'].append('consultant')\n",
    "            consultants[':TYPE'].append('consultant')\n",
    "    contractors_content = info[32]\n",
    "    contractors_list = re.findall(company_pattern, contractors_content)\n",
    "    for contractor in contractors_list:\n",
    "        if contractor in com2ind:\n",
    "            contractors[':START_ID'].append(index_project)\n",
    "            contractors[':END_ID'].append(com2ind[contractor])\n",
    "            contractors['relation'].append('contractor')\n",
    "            contractors[':TYPE'].append('contractor')\n",
    "    shareholders_content = info[33]\n",
    "    shareholders_list = re.findall(company_pattern, shareholders_content)\n",
    "    for shareholder in shareholders_list:\n",
    "        if shareholder in com2ind:\n",
    "            shareholders[':START_ID'].append(index_project)\n",
    "            shareholders[':END_ID'].append(com2ind[shareholder])\n",
    "            shareholders['relation'].append('shareholder')\n",
    "            shareholders[':TYPE'].append('shareholder')\n",
    "            \n",
    "    projects[':LABEL'].append('project')\n",
    "    index_project += 1"
   ]
  },
  {
   "cell_type": "code",
   "execution_count": 14,
   "metadata": {},
   "outputs": [],
   "source": [
    "df_project = pd.DataFrame(projects)"
   ]
  },
  {
   "cell_type": "code",
   "execution_count": 15,
   "metadata": {},
   "outputs": [],
   "source": [
    "df_project.to_csv('./BRI_project.csv', index=False)"
   ]
  },
  {
   "cell_type": "code",
   "execution_count": 16,
   "metadata": {},
   "outputs": [],
   "source": [
    "df_owner = pd.DataFrame(owners)\n",
    "df_developer = pd.DataFrame(developers)\n",
    "df_consultant = pd.DataFrame(consultants)\n",
    "df_contractor = pd.DataFrame(contractors)\n",
    "df_shareholder = pd.DataFrame(shareholders)"
   ]
  },
  {
   "cell_type": "code",
   "execution_count": 17,
   "metadata": {},
   "outputs": [],
   "source": [
    "df_owner.to_csv('./owner.csv', index=False)\n",
    "df_developer.to_csv('./developer.csv', index=False)\n",
    "df_consultant.to_csv('./consultant.csv', index=False)\n",
    "df_contractor.to_csv('./contractor.csv', index=False)\n",
    "df_shareholder.to_csv('./shareholder.csv', index=False)"
   ]
  },
  {
   "cell_type": "code",
   "execution_count": null,
   "metadata": {},
   "outputs": [],
   "source": []
  }
 ],
 "metadata": {
  "kernelspec": {
   "display_name": "Python 3",
   "language": "python",
   "name": "python3"
  },
  "language_info": {
   "codemirror_mode": {
    "name": "ipython",
    "version": 3
   },
   "file_extension": ".py",
   "mimetype": "text/x-python",
   "name": "python",
   "nbconvert_exporter": "python",
   "pygments_lexer": "ipython3",
   "version": "3.7.3"
  },
  "toc": {
   "base_numbering": 1,
   "nav_menu": {},
   "number_sections": true,
   "sideBar": true,
   "skip_h1_title": false,
   "title_cell": "Table of Contents",
   "title_sidebar": "Contents",
   "toc_cell": false,
   "toc_position": {},
   "toc_section_display": true,
   "toc_window_display": false
  }
 },
 "nbformat": 4,
 "nbformat_minor": 2
}
