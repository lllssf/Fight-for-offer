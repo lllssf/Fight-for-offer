{
 "cells": [
  {
   "cell_type": "markdown",
   "metadata": {},
   "source": [
    "# 处理数据"
   ]
  },
  {
   "cell_type": "code",
   "execution_count": 2,
   "metadata": {},
   "outputs": [],
   "source": [
    "import re\n",
    "import pandas as pd \n",
    "from stanfordcorenlp import StanfordCoreNLP"
   ]
  },
  {
   "cell_type": "markdown",
   "metadata": {},
   "source": [
    "## 处理completed数据"
   ]
  },
  {
   "cell_type": "code",
   "execution_count": 15,
   "metadata": {},
   "outputs": [],
   "source": [
    "data = pd.read_excel('completed_projects.xlsx',index_col = 0)\n",
    "data.to_csv('completed_data.csv', encoding='utf_8_sig')\n"
   ]
  },
  {
   "cell_type": "code",
   "execution_count": 3,
   "metadata": {},
   "outputs": [],
   "source": [
    "# Stanfordcorenlp模型调用\n",
    "nlp = StanfordCoreNLP(r'E:\\Deecamp\\FS\\stanford-corenlp-full-2018-10-05')"
   ]
  },
  {
   "cell_type": "code",
   "execution_count": 16,
   "metadata": {},
   "outputs": [],
   "source": [
    "com_data = pd.read_csv('completed_data.csv', encoding='utf_8_sig')"
   ]
  },
  {
   "cell_type": "code",
   "execution_count": 17,
   "metadata": {},
   "outputs": [],
   "source": [
    "# 检查这一列中是否存在异常元素\n",
    "for i in range(len(com_data)):\n",
    "    line = com_data[u'Owners'][i]\n",
    "    if isinstance(line,str):\n",
    "        pass\n",
    "    else:\n",
    "        print(line,i)"
   ]
  },
  {
   "cell_type": "code",
   "execution_count": 18,
   "metadata": {},
   "outputs": [],
   "source": [
    "# 分割留名\n",
    "owner = []\n",
    "for i in range(len(com_data)):\n",
    "    line = com_data[u'Owners'][i]\n",
    "    line = line.strip()\n",
    "    if line == 'None':\n",
    "        owner.append(line)\n",
    "    else:\n",
    "        txt = re.split(r'(\\n.*\\n)',line, re.M)\n",
    "        owner.append(txt[1].strip())"
   ]
  },
  {
   "cell_type": "code",
   "execution_count": 19,
   "metadata": {},
   "outputs": [],
   "source": [
    "for i in range(len(com_data)):\n",
    "    com_data[u'Owners'][i] = owner[i]"
   ]
  },
  {
   "cell_type": "code",
   "execution_count": 20,
   "metadata": {},
   "outputs": [],
   "source": [
    "com_data.to_csv('completed_data.csv',encoding='utf_8_sig')"
   ]
  },
  {
   "cell_type": "markdown",
   "metadata": {},
   "source": [
    "### 将Developer是一列留存公司名字（稀疏）"
   ]
  },
  {
   "cell_type": "code",
   "execution_count": 9,
   "metadata": {},
   "outputs": [],
   "source": [
    "dever = []\n",
    "for i in range(len(com_data)):\n",
    "    line = com_data[u'Developers'][i]\n",
    "    if isinstance(line,str):\n",
    "        line = line.strip()\n",
    "        if line == 'None':\n",
    "            dever.append(line)\n",
    "        else:\n",
    "            txt = re.split(r'(\\n.*\\n)',line, re.M)\n",
    "            dever.append(txt[1].strip())\n",
    "    else:\n",
    "        dever.append('None')"
   ]
  },
  {
   "cell_type": "code",
   "execution_count": 10,
   "metadata": {},
   "outputs": [],
   "source": [
    "for i in range(len(com_data)):\n",
    "    com_data[u'Developers'][i] = dever[i]"
   ]
  },
  {
   "cell_type": "code",
   "execution_count": 11,
   "metadata": {},
   "outputs": [],
   "source": [
    "com_data.to_csv('completed_data.csv',encoding='utf_8_sig')"
   ]
  },
  {
   "cell_type": "markdown",
   "metadata": {},
   "source": [
    "### 处理Consultants(有多个company）"
   ]
  },
  {
   "cell_type": "code",
   "execution_count": 12,
   "metadata": {},
   "outputs": [],
   "source": [
    "cons = []\n",
    "for i in range(len(com_data)):\n",
    "    line = com_data[u'Consultants'][i]\n",
    "    if isinstance(line,str):\n",
    "        line = line.strip()\n",
    "        if line == 'None':\n",
    "            cons.append(line)\n",
    "        else:\n",
    "            txt = re.split(r'(\\n.*\\n)',line, re.M)\n",
    "            # 多个公司以list保留\n",
    "            comp = []\n",
    "            for n,t in enumerate(txt):\n",
    "                if t == 'Company:':\n",
    "                    comp.append(txt[n+1].strip())\n",
    "            cons.append(comp)\n",
    "    else:\n",
    "        cons.append('None')\n",
    "        \n",
    "for i in range(len(com_data)):\n",
    "    com_data[u'Consultants'][i] = cons[i]\n",
    "    \n",
    "com_data.to_csv('completed_data.csv',encoding='utf_8_sig')"
   ]
  },
  {
   "cell_type": "markdown",
   "metadata": {},
   "source": [
    "### 处理Contractors（同上）"
   ]
  },
  {
   "cell_type": "code",
   "execution_count": 13,
   "metadata": {},
   "outputs": [],
   "source": [
    "cont = []\n",
    "for i in range(len(com_data)):\n",
    "    line = com_data[u'Contractors'][i]\n",
    "    if isinstance(line,str):\n",
    "        line = com_data[u'Contractors'][i]\n",
    "        line = line.strip()\n",
    "        if line == 'None':\n",
    "            cont.append(line)\n",
    "        else:\n",
    "            txt = re.split(r'(\\n.*\\n)',line, re.M)\n",
    "            # 多个公司以list保留\n",
    "            comp = []\n",
    "            for n,t in enumerate(txt):\n",
    "                if t == 'Company:':\n",
    "                    comp.append(txt[n+1].strip())\n",
    "            cont.append(comp)\n",
    "    else:\n",
    "        cont.append('None')\n",
    "        \n",
    "for i in range(len(com_data)):\n",
    "    com_data[u'Contractors'][i] = cont[i]\n",
    "    \n",
    "com_data.to_csv('completed_data.csv',encoding='utf_8_sig')"
   ]
  },
  {
   "cell_type": "markdown",
   "metadata": {},
   "source": [
    "### 处理Shareholders（同上）"
   ]
  },
  {
   "cell_type": "code",
   "execution_count": 14,
   "metadata": {},
   "outputs": [],
   "source": [
    "share = []\n",
    "for i in range(len(com_data)):\n",
    "    line = com_data[u'Shareholders'][i]\n",
    "    if isinstance(line,str):\n",
    "        line = com_data[u'Shareholders'][i]\n",
    "        line = line.strip()\n",
    "        if line == 'None':\n",
    "            share.append(line)\n",
    "        else:\n",
    "            txt = re.split(r'(\\n.*\\n)',line, re.M)\n",
    "            # 多个公司以list保留\n",
    "            comp = []\n",
    "            for n,t in enumerate(txt):\n",
    "                if t == 'Company:':\n",
    "                    comp.append(txt[n+1].strip())\n",
    "            share.append(comp)\n",
    "    else:\n",
    "        share.append('None')\n",
    "        \n",
    "for i in range(len(com_data)):\n",
    "    com_data[u'Shareholders'][i] = share[i]\n",
    "    \n",
    "com_data.to_csv('completed_data.csv',encoding='utf_8_sig')"
   ]
  },
  {
   "cell_type": "markdown",
   "metadata": {},
   "source": [
    "## 函数化\n",
    "上述流程处理completed数据成功，所以将上述code包装起来，方便处理后续数据。"
   ]
  },
  {
   "cell_type": "code",
   "execution_count": 2,
   "metadata": {},
   "outputs": [],
   "source": [
    "class data_pro():\n",
    "    def __init__(self,csv_name,data_csv):\n",
    "        self.name = csv_name\n",
    "        self.data = data_csv\n",
    "    # 针对只有一个公司的    \n",
    "    def single_pro(self,attribute):\n",
    "        attri = []\n",
    "        for i in range(len(self.data)):\n",
    "            line = self.data[u'{}'.format(attribute)][i]\n",
    "            if isinstance(line,str):\n",
    "                line = self.data[u'{}'.format(attribute)][i]\n",
    "                line = line.strip()\n",
    "                if line == 'None':\n",
    "                    attri.append(line)\n",
    "                else:\n",
    "                    txt = re.split(r'(\\n.*\\n)',line, re.M)\n",
    "                    attri.append(txt[1].strip())\n",
    "            else:\n",
    "                attri.append('None')   \n",
    "        for i in range(len(self.data)):\n",
    "            self.data[u'{}'.format(attribute)][i] = attri[i]               \n",
    "        self.data.to_csv('{}'.format(self.name),encoding='utf_8_sig')\n",
    "        \n",
    "    # 针对有多个公司的    \n",
    "    def multi_pro(self,attribute):\n",
    "        multi = []\n",
    "        for i in range(len(self.data)):\n",
    "            line = self.data[u'{}'.format(attribute)][i]\n",
    "            if isinstance(line,str):\n",
    "                line = self.data[u'{}'.format(attribute)][i]\n",
    "                line = line.strip()\n",
    "                if line == 'None':\n",
    "                    multi.append(line)\n",
    "                else:\n",
    "                    txt = re.split(r'(\\n.*\\n)',line, re.M)\n",
    "                    # 多个公司以list保留\n",
    "                    comp = []\n",
    "                    for n,t in enumerate(txt):\n",
    "                        if t == 'Company:':\n",
    "                            comp.append(txt[n+1].strip())\n",
    "                    multi.append(comp)\n",
    "            else:\n",
    "                multi.append('None')\n",
    "\n",
    "        for i in range(len(self.data)):\n",
    "            self.data[u'{}'.format(attribute)][i] = multi[i]\n",
    "\n",
    "        self.data.to_csv('{}'.format(self.name),encoding='utf_8_sig')        "
   ]
  },
  {
   "cell_type": "markdown",
   "metadata": {},
   "source": [
    "### 处理failed数据"
   ]
  },
  {
   "cell_type": "code",
   "execution_count": 16,
   "metadata": {},
   "outputs": [],
   "source": [
    "data = pd.read_excel('failed_project.xlsx',index_col = 0)\n",
    "data.to_csv('failed_data.csv', encoding='utf_8_sig')\n",
    "f_data = pd.read_csv('failed_data.csv', encoding='utf_8_sig')                     "
   ]
  },
  {
   "cell_type": "code",
   "execution_count": 17,
   "metadata": {},
   "outputs": [],
   "source": [
    "f_pro = data_pro('failed_data.csv',f_data)\n",
    "f_pro.single_pro('Owners')\n",
    "f_pro.single_pro('Developers')\n",
    "f_pro.multi_pro('Consultants')\n",
    "f_pro.multi_pro('Contractors')\n",
    "f_pro.multi_pro('Shareholders')"
   ]
  },
  {
   "cell_type": "markdown",
   "metadata": {},
   "source": [
    "### 处理Active数据"
   ]
  },
  {
   "cell_type": "code",
   "execution_count": 3,
   "metadata": {},
   "outputs": [],
   "source": [
    "data = pd.read_excel('active_projects.xlsx',index_col = 0)\n",
    "data.to_csv('active_data.csv', encoding='utf_8_sig')\n",
    "ac_data = pd.read_csv('active_data.csv', encoding='utf_8_sig')"
   ]
  },
  {
   "cell_type": "code",
   "execution_count": 4,
   "metadata": {},
   "outputs": [
    {
     "name": "stderr",
     "output_type": "stream",
     "text": [
      "F:\\anaconda\\lib\\site-packages\\ipykernel_launcher.py:21: SettingWithCopyWarning: \n",
      "A value is trying to be set on a copy of a slice from a DataFrame\n",
      "\n",
      "See the caveats in the documentation: http://pandas.pydata.org/pandas-docs/stable/indexing.html#indexing-view-versus-copy\n",
      "F:\\anaconda\\lib\\site-packages\\ipykernel_launcher.py:46: SettingWithCopyWarning: \n",
      "A value is trying to be set on a copy of a slice from a DataFrame\n",
      "\n",
      "See the caveats in the documentation: http://pandas.pydata.org/pandas-docs/stable/indexing.html#indexing-view-versus-copy\n"
     ]
    }
   ],
   "source": [
    "ac_pro = data_pro('active_data.csv',ac_data)\n",
    "ac_pro.single_pro('Owners')\n",
    "ac_pro.single_pro('Developers')\n",
    "ac_pro.multi_pro('Consultants')\n",
    "ac_pro.multi_pro('Contractors')\n",
    "ac_pro.multi_pro('Shareholders')"
   ]
  },
  {
   "cell_type": "markdown",
   "metadata": {},
   "source": [
    "## 将Financial source量化\n",
    "将这一列转化为 [country, organization, status, fund_type] 四个特征\n",
    "### 处理failed_data\n",
    "1. 将每行描述性文字整理成 \"percent, (country, organizatiion, status), fund_type\\n\".(在清洗数据前，规定好统一的数据格式很重要，避免反复人工劳动！)\n",
    "2. 先利用“\\n”将不同的item划分开\n",
    "3. 对一行有多个item的，按percent算出加权平均数，对于没写明percent的设为1\n",
    "4. 将每个item依据圆括号划分为三部分处理，每次累加每个item的feature，最后除以sum_percent"
   ]
  },
  {
   "cell_type": "code",
   "execution_count": 106,
   "metadata": {},
   "outputs": [],
   "source": [
    "data = pd.read_excel('failed.xlsx',index_col = 0)\n",
    "data.to_csv('failed.csv', encoding='utf_8_sig')\n",
    "fail_data = pd.read_csv('failed.csv',encoding = 'utf_8_sig')\n",
    "fail_data[u'Financing Source']\n",
    "f = []\n",
    "for line in fail_data[u'Financing Source']:\n",
    "    f.append(re.split(r'\\n',line,re.M))"
   ]
  },
  {
   "cell_type": "code",
   "execution_count": 21,
   "metadata": {},
   "outputs": [],
   "source": [
    "country = {'none':0,'0':0,'china':2,'foreign':1}\n",
    "organization = {'none':0,'0':0,'government':3, 'bank':2, 'company':1, 'fund':2}\n",
    "status = {'none':0,'0':0,'center':4, 'local':3, 'policy':4, 'state': 3, 'multinational':2, 'private':1, 'public':2}\n",
    "fund_type = {'0':0,'fund':5, 'bond':4, 'loan':3, 'ipo':2, 'equity':1}"
   ]
  },
  {
   "cell_type": "code",
   "execution_count": 150,
   "metadata": {},
   "outputs": [],
   "source": [
    "feature = []\n",
    "for line in f:\n",
    "    items = [0,0,0,0]\n",
    "    # 为求多个子投资方的加权平均，要保留sum_percent（因为无percent的被设为1）\n",
    "    sum_per = 0\n",
    "    for item in line:\n",
    "        # 利用（）将每个子投资方分割成三部分\n",
    "        score = (re.split('(\\(.*\\))',item))\n",
    "        # 每个item有四个feature，[country, organization, status, fund_type]\n",
    "        item_feature = [0, 0, 0, 0]\n",
    "        \n",
    "        # 提出percent，没有则设为1\n",
    "        if '%' in score[0]:\n",
    "            percent = re.split('(\\d.*%)',score[0])[1]\n",
    "            percent = round(float(percent[:-1])*0.01, 4)\n",
    "        else: percent = 1\n",
    "        sum_per += percent\n",
    "        # 检车fund_type是否存在，同时提防处理数据时输入错误！raise报出异常\n",
    "        if score[2].strip(', ')!='':\n",
    "            try:\n",
    "                item_feature[-1] = fund_type[score[2].strip(', ').lower()]\n",
    "            except KeyError:\n",
    "                print('Check your Fund_type!!!')\n",
    "                raise\n",
    "        # 匹配括号中内容\n",
    "        try:\n",
    "            kuohaolide = score[1].strip('() ').split(',')\n",
    "            item_feature[0] = country[kuohaolide[0].strip().lower()]\n",
    "            item_feature[1] = organization[kuohaolide[1].strip().lower()]\n",
    "            item_feature[2] = status[kuohaolide[2].strip().lower()]\n",
    "        except KeyError:\n",
    "            print('Check your (input,input,input)!!!')\n",
    "            raise\n",
    "        items = [round(x+percent*y,4) for (x,y) in zip(items,item_feature)]\n",
    "   \n",
    "    items = [x/sum_per for x in items]\n",
    "    feature.append(items)"
   ]
  },
  {
   "cell_type": "code",
   "execution_count": 142,
   "metadata": {},
   "outputs": [],
   "source": [
    "for i in range(len(feature)):\n",
    "    fail_data[u'Financing Source'][i] = feature[i]\n",
    "\n",
    "fail_data.to_csv('failed.csv', encoding = 'utf_8_sig')"
   ]
  },
  {
   "cell_type": "markdown",
   "metadata": {},
   "source": [
    "### 处理completed_data"
   ]
  },
  {
   "cell_type": "code",
   "execution_count": 177,
   "metadata": {},
   "outputs": [],
   "source": [
    "data = pd.read_excel('complete.xlsx', index_col = 0)\n",
    "data.to_csv('completed.csv', encoding = 'utf_8_sig')\n",
    "com_data = pd.read_csv('completed.csv', encoding = 'utf_8_sig')\n",
    "comp = []\n",
    "for line in com_data[u'Financing Source']:\n",
    "    comp.append(re.split(r'\\n',line,re.M))\n",
    "    \n",
    "feature = []\n",
    "\n",
    "for line in comp:\n",
    "    items = [0,0,0,0]\n",
    "    if '0,' in line[0]:\n",
    "        items = [float(x) for x in line[0].strip(' ').split(',')]\n",
    "\n",
    "    else:\n",
    "        # 为求多个子投资方的加权平均，要保留sum_percent（因为无percent的被设为1）\n",
    "        sum_per = 0\n",
    "        for item in line:\n",
    "            # 利用（）将每个子投资方分割成三部分\n",
    "            score = (re.split('(\\(.*\\))',item))\n",
    "            # 每个item有四个feature，[country, organization, status, fund_type]\n",
    "            item_feature = [0, 0, 0, 0]\n",
    "\n",
    "            # 提出percent，没有则设为1\n",
    "            if '%' in score[0]:\n",
    "                percent = re.split('(\\d.*%)',score[0])[1]\n",
    "                percent = round(float(percent[:-1])*0.01, 4)\n",
    "            else: percent = 1\n",
    "            sum_per += percent\n",
    "            # 检车fund_type是否存在，同时提防处理数据时输入错误！raise报出异常\n",
    "            if score[2].strip('.,\\r\\n ')!='':\n",
    "                try:\n",
    "                    item_feature[-1] = fund_type[score[2].strip('., ').lower()]\n",
    "                except KeyError:\n",
    "                    print('Check your Fund_type!!!')\n",
    "                    raise\n",
    "            # 匹配括号中内容\n",
    "            try:\n",
    "                kuohaolide = score[1].strip('() ').split(',')\n",
    "                item_feature[0] = country[kuohaolide[0].strip().lower()]\n",
    "                item_feature[1] = organization[kuohaolide[1].strip().lower()]\n",
    "                item_feature[2] = status[kuohaolide[2].strip().lower()]\n",
    "            except KeyError:\n",
    "                print('Check your (input,input,input)!!!')\n",
    "                raise\n",
    "            items = [round(x+percent*y,4) for (x,y) in zip(items,item_feature)]\n",
    "   \n",
    "        items = [x/sum_per for x in items]\n",
    "    feature.append(items)"
   ]
  },
  {
   "cell_type": "code",
   "execution_count": 178,
   "metadata": {},
   "outputs": [],
   "source": [
    "for i in range(len(feature)):\n",
    "    com_data[u'Financing Source'][i] = feature[i]\n",
    "\n",
    "com_data.to_csv('completed.csv', encoding = 'utf_8_sig')"
   ]
  },
  {
   "cell_type": "markdown",
   "metadata": {},
   "source": [
    "## 将各参与公司量化\n",
    "将这一列转化为 [organization, country, public] 三个特征\n",
    "1. organization: government3, company1, bank2\n",
    "2. country：China 2，foreign1\n",
    "3. public： yes 2， no 1\n",
    "4. 没有permid就置零\n",
    "\n",
    "### 对新数据的处理\n",
    "1. 关键词：bank，government， LLP， Ministry，Co.Ltd, Corporation Limited, Authority\n",
    "2. 自动搜索permid： label(Regulatory Agency,company,unknown)， public，Domiciled In"
   ]
  },
  {
   "cell_type": "markdown",
   "metadata": {},
   "source": [
    "### 先处理fail_data的owners"
   ]
  },
  {
   "cell_type": "code",
   "execution_count": 14,
   "metadata": {},
   "outputs": [],
   "source": [
    "data = pd.read_excel('failed.xlsx', index_col = 0)\n",
    "data.to_csv('failed.csv',encoding = 'utf_8_sig')\n",
    "f_data = pd.read_csv('failed.csv',encoding = 'utf_8_sig')"
   ]
  },
  {
   "cell_type": "code",
   "execution_count": 19,
   "metadata": {},
   "outputs": [],
   "source": [
    "public = {'0':0, 'yes':2, 'no':1, 'none':0}"
   ]
  },
  {
   "cell_type": "code",
   "execution_count": 22,
   "metadata": {},
   "outputs": [],
   "source": [
    "lines = []\n",
    "for line in f_data[u'Owners']:\n",
    "    lines.append(re.split(r'\\n',line,re.M))\n",
    "feature = []\n",
    "for line in lines:\n",
    "    item_feature = [0,0,0]\n",
    "    # 为计算平均值,计算子item数量\n",
    "    num_item = 0\n",
    "    for item in line:\n",
    "        num_item += 1\n",
    "        if item == 'None':\n",
    "            break\n",
    "        elif '0,' in item:\n",
    "            item_feature = [float(x) for x in item.strip().split(',')]\n",
    "            break\n",
    "        else:\n",
    "            try:\n",
    "                item_feature[0] += float(organization[item.strip().split(',')[0].lower().strip(' ')])\n",
    "                item_feature[1] += float(country[item.strip().split(',')[1].lower().strip(' ')])\n",
    "                item_feature[2] += float(public[item.strip().split(',')[2].lower().strip(' ')])\n",
    "            except KeyError:\n",
    "                print('CHECK YOUR INPUT!')\n",
    "                raise\n",
    "    item_feature = [x/num_item for x in item_feature]\n",
    "            \n",
    "    feature.append(item_feature)"
   ]
  },
  {
   "cell_type": "markdown",
   "metadata": {},
   "source": [
    "### 合并处理Financing Source及Owners等\n",
    "结合前面处理financing source的程序，将所有处理程序合并成一个类"
   ]
  },
  {
   "cell_type": "code",
   "execution_count": 162,
   "metadata": {},
   "outputs": [],
   "source": [
    "class projects_pro():\n",
    "    \n",
    "    public = {'0':0, 'yes':2, 'no':1, 'none':0, 'false':1, 'true':2}\n",
    "    country = {'none':0,'0':0,'china':2,'foreign':1}\n",
    "    organization = {'none':0,'0':0,'government':3, 'bank':2, 'company':1, 'fund':2}\n",
    "    status = {'none':0,'0':0,'center':4, 'local':3, 'policy':4, 'state': 3, 'multinational':2, 'private':1, 'public':2}\n",
    "    fund_type = {'0':0,'fund':5, 'bond':4, 'loan':3, 'ipo':2, 'equity':1}\n",
    "    Type = {'private':1, 'government':3, 'public-private partnership':2}\n",
    "    \n",
    "    \n",
    "    def __init__(self, csv_name, csv_data):\n",
    "        self.name = csv_name\n",
    "        self.data = csv_data\n",
    "        \n",
    "    def init_pro(self,head):\n",
    "        lines = []\n",
    "        for line in self.data[u'{}'.format(head)]:\n",
    "            lines.append(re.split(r'\\n',line, re.M))\n",
    "        return lines\n",
    "    \n",
    "    def type_pro(self):\n",
    "        t_feature = []\n",
    "        for line in self.data[u'Ownership Type']:\n",
    "            try:\n",
    "                t_feature.append(self.Type[line.strip()[:].lower()])\n",
    "            except KeyError:\n",
    "                print('Check Ownership Type!!!')\n",
    "                raise\n",
    "        return t_feature\n",
    "    \n",
    "    def fs_pro(self):\n",
    "        fs = self.init_pro('Financing Source')\n",
    "        \n",
    "        fs_feature = []\n",
    "        for line in fs:\n",
    "            items = [0,0,0,0]\n",
    "            if '0,' in line[0]:\n",
    "                items = [float(x) for x in line[0].strip(' ').split(',')]\n",
    "\n",
    "            else:\n",
    "                # 为求多个子投资方的加权平均，要保留sum_percent（因为无percent的被设为1）\n",
    "                sum_per = 0\n",
    "                for item in line:\n",
    "                    # 利用（）将每个子投资方分割成三部分\n",
    "                    score = (re.split('(\\(.*\\))',item))\n",
    "                    # 每个item有四个feature，[country, organization, status, fund_type]\n",
    "                    item_feature = [0, 0, 0, 0]\n",
    "\n",
    "                    # 提出percent，没有则设为1\n",
    "                    if '%' in score[0]:\n",
    "                        percent = re.split('(\\d.*%)',score[0])[1]\n",
    "                        percent = round(float(percent[:-1])*0.01, 4)\n",
    "                    else: percent = 1\n",
    "                    sum_per += percent\n",
    "                    # 检车fund_type是否存在，同时提防处理数据时输入错误！raise报出异常\n",
    "                    if score[2].strip('.,\\r\\n ')!='':\n",
    "                        try:\n",
    "                            item_feature[-1] = self.fund_type[score[2].strip('., ').lower()]\n",
    "                        except KeyError:\n",
    "                            print('Check your Fund_type!!!')\n",
    "                            raise\n",
    "                    # 匹配括号中内容\n",
    "                    try:\n",
    "                        kuohaolide = score[1].strip('() ').split(',')\n",
    "                        item_feature[0] = self.country[kuohaolide[0].strip().lower()]\n",
    "                        item_feature[1] = self.organization[kuohaolide[1].strip().lower()]\n",
    "                        item_feature[2] = self.status[kuohaolide[2].strip().lower()]\n",
    "                    except KeyError:\n",
    "                        print('Check your (input,input,input)!!!')\n",
    "                        raise\n",
    "                    items = [round(x+percent*y,4) for (x,y) in zip(items,item_feature)]\n",
    "\n",
    "                items = [x/sum_per for x in items]\n",
    "            fs_feature.append(items)\n",
    "            \n",
    "        return fs_feature\n",
    "    \n",
    "    def company_pro(self,head):\n",
    "        lines = self.init_pro(head)\n",
    "        co_feature = []\n",
    "        for line in lines:\n",
    "            item_feature = [0,0,0]\n",
    "            # 为计算平均值,计算子item数量\n",
    "            num_item = 0\n",
    "            for item in line:\n",
    "                num_item += 1\n",
    "                if 'none' in item.lower():\n",
    "                    break\n",
    "                elif '0,' in item:\n",
    "                    item_feature = [float(x) for x in item.strip().split(',')]\n",
    "                    break\n",
    "                else:\n",
    "                    try:\n",
    "                        item_feature[0] += float(self.organization[item.strip().split(',')[0].lower().strip(' ')])\n",
    "                        item_feature[1] += float(self.country[item.strip().split(',')[1].lower().strip(' ')])\n",
    "                        item_feature[2] += float(self.public[item.strip().split(',')[2].lower().strip(' ')])\n",
    "                    except KeyError:\n",
    "                        print('CHECK YOUR INPUT!')\n",
    "                        raise\n",
    "            item_feature = [x/num_item for x in item_feature]\n",
    "            co_feature.append(item_feature)        \n",
    "        return co_feature\n",
    "    \n",
    "    def save_csv(self):\n",
    "        label = ['Owners','Developers','Consultants','Contractors','Shareholders']\n",
    "        t_feature = self.type_pro()\n",
    "        for i in range(len(t_feature)):\n",
    "            self.data[u'Ownership Type'][i] = t_feature[i]\n",
    "        fs_feature = self.fs_pro()\n",
    "        for i in range(len(fs_feature)):\n",
    "            self.data[u'Financing Source'][i] = fs_feature[i]\n",
    "        for head in label:\n",
    "            co_feature = self.company_pro(head)\n",
    "            for i in range(len(co_feature)):\n",
    "                self.data[u'{}'.format(head)][i] = co_feature[i]\n",
    "        self.data.to_csv('{}'.format(self.name),encoding='utf_8_sig')\n",
    "        return"
   ]
  },
  {
   "cell_type": "code",
   "execution_count": 19,
   "metadata": {},
   "outputs": [
    {
     "name": "stderr",
     "output_type": "stream",
     "text": [
      "F:\\anaconda\\lib\\site-packages\\ipykernel_launcher.py:108: SettingWithCopyWarning: \n",
      "A value is trying to be set on a copy of a slice from a DataFrame\n",
      "\n",
      "See the caveats in the documentation: http://pandas.pydata.org/pandas-docs/stable/indexing.html#indexing-view-versus-copy\n",
      "F:\\anaconda\\lib\\site-packages\\ipykernel_launcher.py:111: SettingWithCopyWarning: \n",
      "A value is trying to be set on a copy of a slice from a DataFrame\n",
      "\n",
      "See the caveats in the documentation: http://pandas.pydata.org/pandas-docs/stable/indexing.html#indexing-view-versus-copy\n",
      "F:\\anaconda\\lib\\site-packages\\ipykernel_launcher.py:115: SettingWithCopyWarning: \n",
      "A value is trying to be set on a copy of a slice from a DataFrame\n",
      "\n",
      "See the caveats in the documentation: http://pandas.pydata.org/pandas-docs/stable/indexing.html#indexing-view-versus-copy\n"
     ]
    }
   ],
   "source": [
    "f = projects_pro('failed.csv',f_data)\n",
    "f.save_csv()"
   ]
  },
  {
   "cell_type": "markdown",
   "metadata": {},
   "source": [
    "### 处理completed_projects\n",
    "1. 利用permID API自动获取Owners等后五列的[organization, country, public] 存为complete_new.csv\n",
    "2. 得到的数据organization很多都是unknown，要先尝试用关键字匹配确定organization类型，再替换unknown"
   ]
  },
  {
   "cell_type": "code",
   "execution_count": 155,
   "metadata": {},
   "outputs": [],
   "source": [
    "data = pd.read_excel('complete_new.xlsx', index_col = 0)\n",
    "data.to_csv('complete_new.csv', encoding = 'utf_8_sig')\n",
    "perm_data = pd.read_csv('complete_new.csv', encoding = 'utf_8_sig')\n",
    "data = pd.read_excel('complete.xlsx', index_col = 0)\n",
    "data.to_csv('completed.csv', encoding = 'utf_8_sig')\n",
    "com_data = pd.read_csv('completed.csv', encoding = 'utf_8_sig')"
   ]
  },
  {
   "cell_type": "code",
   "execution_count": 156,
   "metadata": {},
   "outputs": [],
   "source": [
    "def unknown_replace(to_data, from_data):\n",
    "    rep = []\n",
    "    govern_list = ['government', 'ministry', 'authority', 'bureau', 'state concern', 'implementation group','\"vitebskenergo\"', \n",
    "                   'committee', 'administration','department','frontier works organization','the railways of islamic republic of iran']\n",
    "    company_list = ['company', 'llp', 'ltd', 'corporation', 'holding', 'llc', 'jsc','gmbh','mill','barki tojik',\n",
    "                    'electricity of vietnam','electric stations','sdn.bhd','institute','enterprise','consult','limited',\n",
    "                   'tvorcheskaya','huadong engineering']\n",
    "    for i,line in enumerate(to_data):\n",
    "        if 'unknown' in line.strip().lower():\n",
    "            if '/' in line:\n",
    "                print(line)\n",
    "                rep.append(line)\n",
    "            else:\n",
    "                if 'bank' in from_data[i].strip().lower():\n",
    "                    rep.append('bank'+line.strip().lower()[7:])\n",
    "                elif any(keyname in from_data[i].strip().lower() for keyname in govern_list):\n",
    "                    rep.append('government'+line.strip().lower()[7:])\n",
    "                elif any(keyname in from_data[i].strip().lower() for keyname in company_list):\n",
    "                    rep.append('company'+line.strip().lower()[7:])\n",
    "                else:\n",
    "                    print(from_data[i].strip().lower())\n",
    "                    raise\n",
    "        else:\n",
    "            rep.append(line)\n",
    "    return rep"
   ]
  },
  {
   "cell_type": "code",
   "execution_count": 157,
   "metadata": {},
   "outputs": [],
   "source": [
    "label = ['Owners','Developers','Consultants','Contractors','Shareholders']\n",
    "for head in label:\n",
    "    new = unknown_replace(perm_data[u'{}'.format(head)], com_data[u'{}'.format(head)])\n",
    "    for i in range(len(new)):\n",
    "        perm_data[u'{}'.format(head)][i] = new[i]\n",
    "\n",
    "perm_data.to_csv('COMP.csv', encoding = 'utf_8_sig')"
   ]
  },
  {
   "cell_type": "markdown",
   "metadata": {},
   "source": [
    "3. 将除\"No PermId\"的单元格一一替换"
   ]
  },
  {
   "cell_type": "code",
   "execution_count": 160,
   "metadata": {},
   "outputs": [
    {
     "name": "stdout",
     "output_type": "stream",
     "text": [
      "COSCO Shipping Holdings Co. Ltd,  KTZE-Khorgos Gateway LLP,  Lianyungang Port Holdings Group Co. Ltd.\n",
      "Luxerviza\n",
      "Ministry of Infrastructure and Transportation,  Ethiopian Roads Authority\n",
      "CGGC-UN POWER,  China Energy Engineering Group Anhui Electric Power Construction Co.,Ltd\n",
      "Ethiopian Railways Corporation\n",
      "State Grid Direct Current Development Co Ltd\n",
      "Guizhou Changming International Land Port Co Ltd\n",
      "Rahnamo-Nur\n",
      "Ministry of Infrastructure and Transportation,  Ethiopian Roads Authority\n",
      "Iran Water & Power Resources Development Co.\n",
      "National Highway Authority,  Ministry of Public Works -Islamic Republic of Afghanistan\n",
      "Government of Nepal\n",
      "Narvik Municipality\n",
      "National Highway Authority\n",
      "National Maritime Museum Preparation Office\n",
      "Kariba Hydro Power Company (Private) Limited\n",
      "Power Construction Corp of China Ltd,  Al Mirqab Exchange Company W.L.L\n",
      "Minsk’s Tsentralny District\n",
      "Pengsheng Development Co Ltd\n",
      "Consortium of South-East Asia Crude Oil Company Ltd and South-East Asia Gas Pipeline Company Limited\n",
      "Government of Anhui Province\n",
      "Pakistan Water and Power Development Authority\n",
      "Ministry of Industry and Trade of the Republic of Tatarstan\n",
      "Government of Anhui Province\n",
      "National Highways Authority - India\n",
      "Ministry of Economy and Sustainable Development of Georgia,  Azerbaijan Railways CJSC,  Ministry of Transport and Infrastructure - Turkey\n",
      "National Highway Authority\n",
      "Government of Gansu Province\n",
      "Government of Gansu Province\n",
      "Government of Gansu Province\n",
      "Midland East Power Ltd\n",
      "Federal engineering department of Nigeria\n",
      "Jiangsu Provincial People's Government\n",
      "Guangzhou Municipal People's Government\n",
      "Panama Government\n",
      "Electricite de Guinee\n",
      "Ministry of Works, Transport and Communications\n",
      "Government of Gansu Province\n",
      "Lanzhou Ecological Construction Administration\n",
      "Ministry of Infrastructure and Transportation,  Ethiopian Roads Authority\n",
      "Hainan Harbor & Shipping Holding Co., Ltd.\n",
      "Ministry of Economy and Sustainable Development of Georgia,  Azerbaijan Railways CJSC,  Ministry of Transport and Infrastructure - Turkey\n",
      "China-Russia Tomsk Industry and Trade Cooperation Zone Development and Investment Co Ltd\n",
      "Guangdong China-Russia Trade and Industrial Park Investment Co Ltd\n",
      "Ministry of Internal Affairs - Moldova\n",
      "Guohua (Hami) New Energy Co Ltd\n",
      "Lao People's Revolutionary Party\n",
      "Guotou Fubao Yangpu Tank Terminal Co Ltd\n",
      "Mudanjiang Xinyuan Operation Management Co Ltd\n",
      "SPIC Jiangxi Electric Power Co., Ltd.\n",
      "Hangtian Minjian New Energy (Xiapu) Co Ltd\n",
      "Ministry of City Planning and Water Supply\n",
      "JCJSC Belgee\n",
      "National Highway Authority\n",
      "China Road and Bridge Corporation\n",
      "Shanxi Yiguang Electricity Generation Co Ltd\n",
      "Wuling Electricity Co Ltd\n",
      "Government of Anhui Province\n",
      "Government of Anhui Province\n",
      "AVIC Forestry CO., Ltd.\n",
      "Xinjiang Xinhua Yeerqiang River Hydropower Company Ltd\n",
      "Government of Anhui Province\n",
      "Republic of Serbia- Ministries of Transport\n",
      "Government of Gansu Province\n",
      "Government of Gansu Province\n",
      "Government of Gansu Province\n",
      "Government of Gansu Province\n",
      "Ministry of Economy and Sustainable Development of Georgia, Azerbaijan Railways CJSC, Ministry of Transport and Infrastructure - Turkey\n",
      "Sinohydro Kamchay Hydroelectric Co Ltd\n",
      "Jaipur Metro Rail Corporation Ltd\n",
      "Port Qasim Electric Power Company\n",
      "Quaid e Azam Solar Power Pvt. Ltd.\n",
      "Drainages Services Department of Hongkong\n",
      "Nam Tha 1 Lao Power Co Ltd\n"
     ]
    },
    {
     "name": "stderr",
     "output_type": "stream",
     "text": [
      "F:\\anaconda\\lib\\site-packages\\ipykernel_launcher.py:16: SettingWithCopyWarning: \n",
      "A value is trying to be set on a copy of a slice from a DataFrame\n",
      "\n",
      "See the caveats in the documentation: http://pandas.pydata.org/pandas-docs/stable/indexing.html#indexing-view-versus-copy\n",
      "  app.launch_new_instance()\n"
     ]
    },
    {
     "name": "stdout",
     "output_type": "stream",
     "text": [
      "China National Machinery Imp. & Exp. Corp.\n",
      "China National Petroleum Corporation Limited\n",
      "Three Gorges First Wind Farm Pakistan (Pvt) Ltd\n",
      "Beijing Uni.-Construction Group Co., Ltd.\n",
      "China Urban Construction Design & Research Institute Co., Ltd.\n",
      "Transport Department of Anhui Province (APDOT)\n",
      "Transport Department of Anhui Province (APDOT)\n",
      "China Geo-Engineering Corporation Overseas Construction\n",
      "China National Petroleum Corporation Limited\n",
      "China National Petroleum Corporation Limited\n",
      "China National Petroleum Corporation Limited\n",
      "3rd Engineering Company Ltd. of China Railway Urban Construction Group\n",
      "JCJSC Belgee\n",
      "Transport Department of Anhui Province (APDOT)\n",
      "Transport Department of Anhui Province (APDOT)\n",
      "AVIC Forestry CO., Ltd.\n",
      "Transport Department of Anhui Province (APDOT)\n",
      "Port Qasim Electric Power Company\n",
      "TSK Group,  ACWA Power\n",
      "['Saudi Railway Implementation Supervision Consultants']\n",
      "['Saudi Consolidated Engineering Company (Khatib & Alami)', 'Saudi Railway Implementation Supervision Consultants']\n",
      "['China Railway First Survey & Design Institute Group CO.,LTD.']\n",
      "['China Electric Power Engineering Consulting Group Zhongnan Electric Power Design Institute Co., Ltd.', 'Southwest Electric Power Design Institute Co., Ltd']\n",
      "['State Grid Economic and Technological Research Institute Co., Ltd.', 'Shandong Electric Power Engineering Consulting Institute Corp., Ltd.']\n",
      "['Hubei Junbang Environmental Technology Co Ltd.']\n",
      "['Shandong Chengxin Engineering Construction Supervision Co., Ltd.', 'Hunan Electric Power Construction Supervision and Consultation Co., Ltd.', 'Sichuan Electric Power Design & Consulting Co., Ltd.']\n",
      "['Saudi Railway Implementation Supervision Consultants']\n",
      "['Saudi Railway Implementation Supervision Consultants']\n",
      "['China Power Engineering Consulting Group North China Electric Power Design Institute Co., Ltd.', 'Southwest Electric Power Design Institute Co., Ltd']\n",
      "['ACC India Pvt. Ltd.']\n",
      "['KBR, Inc.']\n",
      "['IRD Engineering S.R.L.']\n",
      "['Inner Mongolia Electric Power Survey and Design Institute Co., Ltd.']\n",
      "['China Energy Construction Group Hunan Electric Power Design Institute Co., Ltd.', 'Northwest Electric Power Design Institute Co., Ltd. of China Power Engineering Consulting Group']\n",
      "['Shaanxi Huajian Construction Supervision Co Ltd', 'China Northwest Architecture Design & Research Institute Co Ltd', 'China Northwest Architecture Design & Research Institute Co Ltd']\n",
      "['AK Group', 'Incorporated Consultants \"Conin\"']\n",
      "['Temelsu International Engineering Services Inc.']\n",
      "['China Railway First Survey & Design Institute Group CO.,LTD.']\n",
      "['China Railway Siyuan Survey and Design Group Co., Ltd.']\n",
      "['Powerchina Hebei Electric Power Design & Research Institute Co., Ltd.', 'China Northeast Electric Power Engineering Corporation (NPEC)']\n",
      "['Guangxi T-energy Engineering Consulting Co., Ltd.']\n",
      "['China Electric Power Planning & Engineering Institute Co., Ltd', 'Northeast Electric Power Design Institute Co., Ltd. of CPECC', 'State Nuclear Electric Power Planning Design & Research Institute Co., Ltd.']\n",
      "['Ramboll Group']\n",
      "['China Electric Power Construction Group Northwest Survey and Design Institute Co., Ltd.', 'China Energy Construction Group Xinjiang Electric Power Design Institute Co., Ltd.']\n",
      "['Carl Bro Group']\n",
      "['Haerbin Railway Bureau Environmental Protection Company']\n",
      "['Heilongjiang Light Industry Construction Management Co Ltd']\n",
      "['China Hydropower Engineering Consulting Group Co., Ltd.', 'Jiangxi Nuclear Industry Geological Bureau Test and Research Center']\n",
      "['Appleton Consulting Inc.', 'Columbia University']\n",
      "['Huadong Engineering Corporation Ltd.', 'China International Engineering Consulting Corporation']\n",
      "['Tianjin Water Transport Engineering Science Research Institute, Ministry of Transport']\n",
      "['Carl Bro Group']\n",
      "['Carl Bro Group']\n",
      "['Roads and Highways Department']\n",
      "['PowerChina Chengdu Engineering Co., Ltd', 'Fichtner Consulting Engineers']\n",
      "['PowerChina Chengdu Engineering Co., Ltd', 'PowerChina Chengdu Engineering Co., Ltd', 'China Hydropower Engineering Consulting Group Co., Ltd.']\n",
      "['Sichuan Water Resources and Hydroelectric Investigation & Design Institute', 'Sichuan Communication Surveying&Design Institute']\n",
      "['Tianjin Water Transport Engineering Science Research Institute, Ministry of Transport']\n",
      "['Guangzhou Metro Design & Research Institute Co., Ltd.']\n",
      "['PV Lab Germany']\n",
      "['IRD Engineering S.R.L.']\n",
      "['IRD Engineering S.R.L.']\n",
      "['Inner Mongolia Electric Power Survey and Design Institute Co., Ltd.']\n",
      "['Zhejiang Renxin Huankeyuan Co Ltd.']\n",
      "['Sulaiman Ahmed Alqudaibi & Sons Group', 'Yapi Merkezi Holding A.S.']\n",
      "['Bazis A - Company', 'KTZE-Khorgos Gateway LLP']\n",
      "['Hyundai Engineering & Construction Co., Ltd.']\n",
      "['China Harbour Engineering Company Ltd.', 'Hambantota International Port Group Company Ltd. (HIPG)']\n",
      "[\"China Nonferrous Metal Industry's Foreign Engineering and Construction Co., Ltd\"]\n",
      "['China Electric Power Engineering Consulting Group Zhongnan Electric Power Design Institute Co., Ltd.', 'China Machinery Engineering Corporation']\n",
      "['State Grid Direct Current Development Co Ltd']\n",
      "['China Railway Construction Corporation Limited', 'Construcciones y Auxiliar de Ferrocarril.']\n",
      "['Consortium of Dodsal Engineering & Construction Private Limited and Saipem SpA - Sharjah']\n",
      "['SEPCO1 Electric Power Construction Co., Ltd.', 'Tabacos']\n",
      "['Gansu Electric Power Transmission and Transformation Engineering Co., Ltd.', 'State Grid Hunan Electric Power Co., Ltd.']\n",
      "['China Road and Bridge Corporation']\n",
      "['Xinjaing Beixin Road & Bridge Construction Co., LTD']\n",
      "['China Railway 18th Bureau Group Co., Ltd',  'AlSuwaiket Trading & Contracting Company']\n",
      "['Consortium of Al Masaood Mowlem, Al-Rashid Trading & Contracting Company and Mitsui & Company Middle East Limited']\n",
      "['Sichuan Road & Bridge Co., Ltd']\n",
      "['Sinohydro Bureau 14 Co.,Ltd.', 'SMEC Holdings Limited']\n",
      "['Zhangzhou Yijian Engineering Co Ltd']\n",
      "['Dawood Power Pvt. Ltd.', 'Hydrochina Corporation']\n",
      "['Sachal Energy Development Ltd.', 'Hydrochina Corporation']\n",
      "['Ukravtodor - Ukraine', 'Joca']\n",
      "['China Road and Bridge Corporation']\n",
      "['Shandong Taikai Disconnectors Co., Ltd.']\n",
      "['Three Gorges First Wind Farm Pakistan (Pvt) Ltd']\n",
      "['Sinohydro Harbour Co Ltd', 'Powerchina Hebei Electric Power Design & Research Institute Co., Ltd.']\n",
      "['China Electric Power Equipment and Technology Company', 'Powerchina Hubei Engineering Co., Ltd.', 'China Energy Engineering Group Tianjin Electric Power Construction Co.,Ltd.']\n",
      "['Sinohydro Bureau 5 Co., Ltd', 'Consortium of Hydrochina Corporation and CGC Overseas Construction Group']\n",
      "['China Road and Bridge Corporation']\n",
      "['South-East Asia Gas Pipeline Company Limited', 'Korea Gas Corporation', 'Indian Oil Corporation Limited']\n",
      "['Sinohydro Bureau 5 Co., Ltd', 'Sinohydro Bureau 7 Co.,LTD.']\n",
      "['3rd Engineering Company Ltd. of China Railway Urban Construction Group', 'China Railway Construction Heavy Industry Co., Ltd.']\n",
      "['Mitsubishi Heavy Industries, Ltd', 'Sojitz Corporation', 'ENCE GmbH']\n",
      "['Azerinsaatservis']\n",
      "['Gansu Provincial Transportation Planning Survey and Design Institute Co., Ltd.', 'Yunnan Transportation Planning and Design Institute']\n",
      "['CCCC Highway Consultants Co.,Ltd.', 'CCCC Infrastructure Maintenance Group Co.,Ltd.']\n",
      "['China Highway Engineering Consultants Corporation', 'Guizhou Transportation Planning Survey & Design Academe Co.,Ltd.']\n",
      "['China Energy Engineering Group Northwest Power Construction Engineering Co., Ltd.', 'Consortium of CRRC Ziyang Co Ltd and Green Power Ltd']\n",
      "['PowerChina Sinohydro Engineering Bureau 3 Co. Ltd', 'Sinohydro Bureau 7 Co.,LTD.']\n",
      "['China National Complete Plant Import & Export Corporation (Group)']\n",
      "['Piraeus Container Terminal S.A.', 'Huawei Technologies Co Ltd.']\n",
      "['Kazdornii']\n",
      "['China International Water & Electric Corporation']\n",
      "['SCEGC No.9 Construction Engineering Group Co., Ltd.', 'SCEGC No.9 Construction Engineering Group Co., Ltd.']\n",
      "[\"China Nonferrous Metal Industry's Foreign Engineering and Construction Co., Ltd\"]\n",
      "['Shaanxi Yuecheng Garden Sculpture Engineering Co Ltd']\n",
      "['Zeromax GmbH']\n",
      "['China Railway 24th Bureau Group Co., Ltd.', 'China Tiesiju Civil Engineering Group Co., Ltd.']\n",
      "['China Harbour Engineering Company Ltd.']\n",
      "['Turkish State Railways', 'Consortium of Celikler Holding and Ozgun Insaat Ltd']\n",
      "['China Energy Engineering Group Tianjin Electric Power Construction Co.,Ltd.']\n",
      "['AVIC Forestry CO., Ltd.']\n",
      "['Akcansa', 'Consortium of Ibrahim Cecen Yatirim Holding and Astaldi SpA']\n",
      "['Sino-German Bausparkasse Co Ltd', 'China Harbour Engineering Company Ltd.']\n",
      "['Hatie Engineering Construction Group Company Ltd']\n",
      "['The 23rd Metallurgical Construction Group Co., Ltd. of Minmetals']\n",
      "['Xinjaing Beixin Road & Bridge Construction Co., LTD']\n",
      "['Habib Construction Services (Pvt) Limited']\n",
      "['Sinohydro Bureau 16 Co., Ltd.', 'SINOHYDRO Corporation Limited']\n",
      "['PowerChina Sinohydro Engineering Bureau 3 Co. Ltd', 'Sinohydro Bureau 7 Co.,LTD.']\n",
      "['China Harbour Engineering Company Ltd.']\n",
      "['Piraeus Container Terminal S.A.', 'Huawei Technologies Co Ltd.']\n",
      "[\"China Nonferrous Metal Industry's Foreign Engineering and Construction Co., Ltd\"]\n",
      "['China Railway 20 Bureau Group Corporation', 'China Railway 20 Bureau Group Corporation']\n",
      "['China Petroleum Engineering and Construction Corporation']\n",
      "['China Gezhouba Group Co. Ltd', 'PowerChina Sinohydro Engineering Bureau 3 Co. Ltd']\n",
      "['Sinohydro Engineering Bureau 4 Co. Ltd', 'SINOHYDRO Corporation Limited']\n",
      "['Gamesa Corporacion Tecnoligica']\n",
      "['Civil Engineering Design Academy of Changan University Co.,Ltd.', 'Anhui Transport Consulting & Design Institute Co.,Ltd.']\n",
      "['Gansu Provincial Transportation Planning Survey and Design Institute Co., Ltd.', 'Jiaoke Transport Consultants Ltd.']\n",
      "['Sinohydro Bureau 16 Co., Ltd.']\n",
      "['Belenergostroy']\n",
      "['China railway 15 bureau group Co.,Ltd.', 'China railway 11 bureau group co.,Ltd.']\n",
      "['CCCC Second Highway Consultant Co. Ltd', 'Henan Provincial Communications Planning Survey & Design Institute Co. Ltd.']\n",
      "['Tech Testing Co., Ltd.']\n",
      "['Sinohydro Engineering Bureau 8 Corporation Limited', 'Sinohydro Bureau 14 Co.,Ltd.', 'Sinohydro Bureau 1 Co., Ltd.']\n",
      "['Sinohydro Bureau 1 Co., Ltd.']\n",
      "['Zhangzhou Yijian Engineering Co Ltd']\n",
      "['TSK Group', 'ACWA Power']\n",
      "['China Road and Bridge Corporation']\n"
     ]
    },
    {
     "name": "stdout",
     "output_type": "stream",
     "text": [
      "['Sazeh Novin Company']\n",
      "['Iran Water & Power Resources Development Co.']\n",
      "['Fujian Fu Neng Energy Co Ltd']\n",
      "['Fujian Fu Neng Energy Co Ltd']\n",
      "['State Grid Xinyuan Company Ltd.', 'Jiangxi Province Investment Group Co., Ltd.']\n",
      "['Anhui Provincial Investment Group Holding Co.,Ltd', 'Government of China']\n",
      "['Anhui Provincial Investment Group Holding Co.,Ltd', 'Government of China']\n",
      "['Gansu Provincial Highway Aviation Tourism Investment Group Co., Ltd.', 'Government of China']\n",
      "['Egyptian Petrochemicals Holding Company', 'Dhunseri Petrochem & Tea Pte Ltd.']\n",
      "[\"Jiangsu Provincial People's Government\"]\n",
      "[\"Guangzhou Municipal People's Government\"]\n",
      "[\"Tibet Autonomous Regional People's Government\"]\n",
      "['Government of Gansu Province']\n",
      "['Tus-Holdings Co., Ltd.']\n",
      "['Hangtian Minjian New Energy Investment Co Ltd']\n",
      "['Chinese construction Corporation CITIC', 'Chinese Corporation Zhejang Jirun automobile Co. LLC', 'Belarusian mining equipment manufacturer BelAZ']\n",
      "['Ministry of Public Works -Islamic Republic of Afghanistan', 'Ministry of Transport and Civil Aviation of Afghanistan']\n",
      "['Anhui Provincial Investment Group Holding Co.,Ltd', 'Government of China']\n",
      "['Anhui Provincial Investment Group Holding Co.,Ltd', 'Government of China']\n",
      "['Anhui Provincial Investment Group Holding Co.,Ltd', 'Government of China']\n",
      "['Total S.A.', 'China Silk Road Fund']\n",
      "['China Road and Bridge Corporation']\n",
      "['Fujian Fu Neng Energy Co Ltd']\n",
      "['Fujian Fu Neng Energy Co Ltd']\n",
      "['Fujian Fu Neng Energy Co Ltd']\n"
     ]
    }
   ],
   "source": [
    "def line_replace(from_data,to_data):\n",
    "    rep = []\n",
    "    for i,line in enumerate(from_data):\n",
    "        if 'permid' in line.strip().lower():\n",
    "            print(to_data[i])\n",
    "            rep.append(to_data[i])\n",
    "        else:\n",
    "            rep.append(line)\n",
    "    return rep\n",
    "        \n",
    "\n",
    "label = ['Owners','Developers','Consultants','Contractors','Shareholders']\n",
    "for head in label:\n",
    "    new = line_replace(perm_data[u'{}'.format(head)], com_data[u'{}'.format(head)])\n",
    "    for i in range(len(new)):\n",
    "        com_data[u'{}'.format(head)][i] = new[i]\n",
    "\n",
    "com_data.to_csv('COMP.csv', encoding = 'utf_8_sig')"
   ]
  },
  {
   "cell_type": "markdown",
   "metadata": {},
   "source": [
    "4. 部分无permid的手工替换--completed_perm.xlsx, 将剩下的根据关键字判断是什么organization，直接处理成‘x,0,0’；同时把其他行的第一个label转换为government，bank，company;第二个转换为China，foreign; None 处理成0,0,0"
   ]
  },
  {
   "cell_type": "code",
   "execution_count": 166,
   "metadata": {},
   "outputs": [
    {
     "name": "stderr",
     "output_type": "stream",
     "text": [
      "F:\\anaconda\\lib\\site-packages\\ipykernel_launcher.py:65: SettingWithCopyWarning: \n",
      "A value is trying to be set on a copy of a slice from a DataFrame\n",
      "\n",
      "See the caveats in the documentation: http://pandas.pydata.org/pandas-docs/stable/indexing.html#indexing-view-versus-copy\n"
     ]
    }
   ],
   "source": [
    "data = pd.read_excel('completed_perm.xlsx', index_col = 0)\n",
    "data.to_csv('completed_perm.csv', encoding = 'utf_8_sig')\n",
    "permid_data = pd.read_csv('completed_perm.csv', encoding = 'utf_8_sig')\n",
    "\n",
    "def nopermid(data):\n",
    "    rep = []\n",
    "    company_list = ['company', 'corporation','firm']\n",
    "    govern_list = ['government', 'ministry', 'authority', 'bureau', 'state concern', 'implementation group','\"vitebskenergo\"', \n",
    "                   'committee', 'administration','department','frontier works organization','the railways of islamic republic of iran']\n",
    "    for line in data:\n",
    "        if 'none' in line.lower():\n",
    "            rep.append('0,0,0')\n",
    "        elif '/' in line:\n",
    "            items = line.strip().lower().split('/')\n",
    "            item_rep = []\n",
    "            for item in items:\n",
    "                if '+' in item:\n",
    "                    labels = item.strip().split('+')\n",
    "                    if 'bank' in labels[0]:\n",
    "                        org = 'bank'\n",
    "                    elif any(keyname in labels[0] for keyname in company_list):\n",
    "                        org = 'company'\n",
    "                    else:\n",
    "                        org = 'government'\n",
    "                    if 'china' in labels[1]:\n",
    "                        coun = 'china'\n",
    "                    else:\n",
    "                        coun = 'foreign'\n",
    "                    item_rep.append('{},{},{}'.format(org,coun,labels[2]))\n",
    "                else:\n",
    "                    if 'bank' in item:\n",
    "                        item_rep.append('2,0,0')\n",
    "                    elif any(keyname in item for keyname in govern_list):\n",
    "                        item_rep.append('3,0,0')\n",
    "                    else:\n",
    "                        item_rep.append('1,0,0')\n",
    "            rep.append('\\n'.join(item_rep))\n",
    "        else:\n",
    "            if '+' in line:\n",
    "                labels = line.strip().lower().split('+')\n",
    "                if 'bank' in labels[0]:\n",
    "                    org = 'bank'\n",
    "                elif any(keyname in labels[0] for keyname in company_list):\n",
    "                    org = 'company'\n",
    "                else:\n",
    "                    org = 'government'\n",
    "                if 'china' in labels[1]:\n",
    "                    coun = 'china'\n",
    "                else:\n",
    "                    coun = 'foreign'\n",
    "                rep.append('{},{},{}'.format(org,coun,labels[2]))\n",
    "            else:\n",
    "                if 'bank' in line.lower():\n",
    "                    rep.append('2,0,0')\n",
    "                elif any(keyname in line.lower() for keyname in govern_list):\n",
    "                    rep.append('3,0,0')\n",
    "                else:\n",
    "                    rep.append('1,0,0')\n",
    "    return rep\n",
    "\n",
    "label = ['Owners','Developers','Consultants','Contractors','Shareholders']\n",
    "for head in label:\n",
    "    new = nopermid(permid_data[u'{}'.format(head)])\n",
    "    for i in range(len(new)):\n",
    "        permid_data[u'{}'.format(head)][i] = new[i]\n",
    "\n",
    "permid_data.to_csv('COMP.csv', encoding = 'utf_8_sig')"
   ]
  },
  {
   "cell_type": "code",
   "execution_count": 167,
   "metadata": {},
   "outputs": [
    {
     "name": "stderr",
     "output_type": "stream",
     "text": [
      "F:\\anaconda\\lib\\site-packages\\ipykernel_launcher.py:108: SettingWithCopyWarning: \n",
      "A value is trying to be set on a copy of a slice from a DataFrame\n",
      "\n",
      "See the caveats in the documentation: http://pandas.pydata.org/pandas-docs/stable/indexing.html#indexing-view-versus-copy\n",
      "F:\\anaconda\\lib\\site-packages\\ipykernel_launcher.py:111: SettingWithCopyWarning: \n",
      "A value is trying to be set on a copy of a slice from a DataFrame\n",
      "\n",
      "See the caveats in the documentation: http://pandas.pydata.org/pandas-docs/stable/indexing.html#indexing-view-versus-copy\n",
      "F:\\anaconda\\lib\\site-packages\\ipykernel_launcher.py:115: SettingWithCopyWarning: \n",
      "A value is trying to be set on a copy of a slice from a DataFrame\n",
      "\n",
      "See the caveats in the documentation: http://pandas.pydata.org/pandas-docs/stable/indexing.html#indexing-view-versus-copy\n"
     ]
    }
   ],
   "source": [
    "c_data = pd.read_csv('COMP.csv', encoding = 'utf_8_sig')\n",
    "completed = projects_pro('COMP.csv', c_data)\n",
    "completed.save_csv()"
   ]
  },
  {
   "cell_type": "code",
   "execution_count": 168,
   "metadata": {},
   "outputs": [],
   "source": [
    "data = pd.read_excel('completed.xlsx', index_col=0)\n",
    "data.to_csv('completed.csv', encoding = 'utf_8_sig')"
   ]
  },
  {
   "cell_type": "code",
   "execution_count": 169,
   "metadata": {},
   "outputs": [],
   "source": [
    "data = pd.read_excel('temp.xlsx', index_col=0)\n",
    "data.to_csv('failed.csv', encoding = 'utf_8_sig')"
   ]
  },
  {
   "cell_type": "code",
   "execution_count": null,
   "metadata": {},
   "outputs": [],
   "source": []
  }
 ],
 "metadata": {
  "kernelspec": {
   "display_name": "Python 3",
   "language": "python",
   "name": "python3"
  },
  "language_info": {
   "codemirror_mode": {
    "name": "ipython",
    "version": 3
   },
   "file_extension": ".py",
   "mimetype": "text/x-python",
   "name": "python",
   "nbconvert_exporter": "python",
   "pygments_lexer": "ipython3",
   "version": "3.7.3"
  }
 },
 "nbformat": 4,
 "nbformat_minor": 2
}
